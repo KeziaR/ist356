{
 "cells": [
  {
   "cell_type": "markdown",
   "id": "7964baf8-149b-4a2d-9d16-2f4e1b9bda96",
   "metadata": {},
   "source": [
    "# Python 1.3\n",
    "\n",
    "Functions, documentaion, strings, files"
   ]
  },
  {
   "cell_type": "markdown",
   "id": "be891bad-5d39-4d84-9403-6b5edbf02585",
   "metadata": {},
   "source": [
    "# Functions\n",
    "\n",
    "- `def` to create your function\n",
    "- calling your function (arguments)\n",
    "- docstrings\n",
    "- named arguments"
   ]
  },
  {
   "cell_type": "markdown",
   "id": "557010bb-11a9-4687-b3bc-d9ef41ff9e68",
   "metadata": {},
   "source": [
    "## What are functions?\n",
    "\n",
    "- A **Function** is a named sequence of statements which accomplish a task. They promote modularity, making our code less complex, easier to understand and encourage code-reuse. \n",
    "- When you “run” a defined function it’s known as a **function call**. Functions are designed to be ***written once***, but ***called many times***.\n",
    "- We've seen functions before:  "
   ]
  },
  {
   "cell_type": "code",
   "execution_count": 2,
   "id": "f43c2f07-775a-42fa-9c31-363a3493b849",
   "metadata": {
    "tags": []
   },
   "outputs": [
    {
     "name": "stdout",
     "output_type": "stream",
     "text": [
      "Enter Name:  tony\n"
     ]
    },
    {
     "name": "stdout",
     "output_type": "stream",
     "text": [
      "tony 4 9\n"
     ]
    }
   ],
   "source": [
    "# We call functions all the time\n",
    "# input(). random.randint(), and int() are all functions!\n",
    "import random\n",
    "x = input(\"Enter Name: \")  \n",
    "y = random.randint(1,10)  #random is the module, randint() is the function\n",
    "z = int(\"9\")\n",
    "print(x,y,z)"
   ]
  },
  {
   "cell_type": "markdown",
   "id": "9f51c5a4-383b-4faf-bb6e-7976ca8c2650",
   "metadata": {},
   "source": [
    "## Function Definitions\n",
    "\n",
    "- Functions are like their own little programs. They take input, which we call the **function arguments (or parameters)** and give us back output that we refer to as **return values**.\n",
    "\n",
    "```\n",
    "INPUT      -=> PROCESS     ==> OUTPUT\n",
    "Function   ==> Function    ==> Function \n",
    "Arguments      Definition       Return\n",
    "\n",
    "```\n"
   ]
  },
  {
   "cell_type": "code",
   "execution_count": 3,
   "id": "e977dce6-f50e-4252-b088-d02cc80c7e96",
   "metadata": {
    "tags": []
   },
   "outputs": [
    {
     "name": "stdout",
     "output_type": "stream",
     "text": [
      "25.0\n"
     ]
    }
   ],
   "source": [
    "# Example Function\n",
    "def area_of_triangle(base, height): # <== INPUTs\n",
    "    area = 0.5 * base *height\n",
    "    return area # <== OUTPUT\n",
    "\n",
    "# Function call: using your function\n",
    "a = area_of_triangle(10,5)\n",
    "print(a)"
   ]
  },
  {
   "cell_type": "code",
   "execution_count": 6,
   "id": "daadd517-00cc-4005-a28e-a4700617f8ec",
   "metadata": {
    "tags": []
   },
   "outputs": [
    {
     "name": "stdout",
     "output_type": "stream",
     "text": [
      "25.0 25.0\n"
     ]
    }
   ],
   "source": [
    "# When you call a function you can name your arguments:\n",
    "# This allows you to override the order of the arguments\n",
    "\n",
    "# These are the same order as defined\n",
    "area1 = area_of_triangle(base=10, height=5)\n",
    "# Different order than defined\n",
    "area2 = area_of_triangle(height=5, base=10)\n",
    "print(area1, area2)"
   ]
  },
  {
   "cell_type": "markdown",
   "id": "21bae3ab-f92b-42f7-9c2a-4428947c04f6",
   "metadata": {},
   "source": [
    "## Challenge 1-3-1\n",
    "\n",
    "Write a function called `average` which takes a list of numbers as input then outputs the average of the numbers sum / count\n",
    "\n",
    "Call your function with an arbitrary list of numbers you create.\n"
   ]
  },
  {
   "cell_type": "code",
   "execution_count": 13,
   "id": "5871d071",
   "metadata": {},
   "outputs": [
    {
     "ename": "TypeError",
     "evalue": "'int' object is not iterable",
     "output_type": "error",
     "traceback": [
      "\u001b[1;31m---------------------------------------------------------------------------\u001b[0m",
      "\u001b[1;31mTypeError\u001b[0m                                 Traceback (most recent call last)",
      "Cell \u001b[1;32mIn[13], line 12\u001b[0m\n\u001b[0;32m      9\u001b[0m         i \u001b[38;5;241m+\u001b[39m\u001b[38;5;241m=\u001b[39m \u001b[38;5;241m1\u001b[39m\n\u001b[0;32m     11\u001b[0m \u001b[38;5;28;01mif\u001b[39;00m \u001b[38;5;18m__name__\u001b[39m \u001b[38;5;241m==\u001b[39m \u001b[38;5;124m\"\u001b[39m\u001b[38;5;124m__main__\u001b[39m\u001b[38;5;124m\"\u001b[39m:\n\u001b[1;32m---> 12\u001b[0m     \u001b[43maverage\u001b[49m\u001b[43m(\u001b[49m\u001b[43m)\u001b[49m\n",
      "Cell \u001b[1;32mIn[13], line 7\u001b[0m, in \u001b[0;36maverage\u001b[1;34m()\u001b[0m\n\u001b[0;32m      5\u001b[0m \u001b[38;5;28;01mwhile\u001b[39;00m \u001b[38;5;28;01mTrue\u001b[39;00m:\n\u001b[0;32m      6\u001b[0m     list_num \u001b[38;5;241m=\u001b[39m \u001b[38;5;28mint\u001b[39m(\u001b[38;5;28minput\u001b[39m(\u001b[38;5;124m\"\u001b[39m\u001b[38;5;124mEnter a list of numbers: \u001b[39m\u001b[38;5;124m\"\u001b[39m))\n\u001b[1;32m----> 7\u001b[0m     avg_num \u001b[38;5;241m=\u001b[39m \u001b[38;5;28;43msum\u001b[39;49m\u001b[43m(\u001b[49m\u001b[43mlist_num\u001b[49m\u001b[43m)\u001b[49m \u001b[38;5;241m/\u001b[39m \u001b[38;5;28mlen\u001b[39m(list_num)\n\u001b[0;32m      8\u001b[0m     nums[i] \u001b[38;5;241m=\u001b[39m avg_num\n\u001b[0;32m      9\u001b[0m     i \u001b[38;5;241m+\u001b[39m\u001b[38;5;241m=\u001b[39m \u001b[38;5;241m1\u001b[39m\n",
      "\u001b[1;31mTypeError\u001b[0m: 'int' object is not iterable"
     ]
    }
   ],
   "source": [
    "def average():\n",
    "\n",
    "    nums = []\n",
    "    num_list = int(input(\"How many numbers are in your list? \"))\n",
    "    i = 1\n",
    "    for i in range(num_list):\n",
    "        list_num = int(input(\"Enter a list of numbers: \"))\n",
    "        avg_num = sum(list_num) / len(list_num)\n",
    "        nums[i] = avg_num\n",
    "    i += 1\n",
    "if __name__ == \"__main__\":\n",
    "    average()\n",
    "\n",
    "\n",
    "\n"
   ]
  },
  {
   "cell_type": "markdown",
   "id": "e03466c9-508a-45be-99d3-493e80b95ec0",
   "metadata": {},
   "source": [
    "## Type Hints\n",
    "\n",
    "Types can be added to the `def` statement to help the caller understand what type of data the function expects. These are known as **type hints**\n",
    "\n",
    "In this example the expected arguments are `float` and the return is `float`"
   ]
  },
  {
   "cell_type": "code",
   "execution_count": 7,
   "id": "799977db-36d4-4a72-be43-857b5232a1b0",
   "metadata": {
    "tags": []
   },
   "outputs": [],
   "source": [
    "def area_of_triangle(base: float, height: float) -> float: \n",
    "    area = 0.5 * base *height\n",
    "    return area\n",
    "\n"
   ]
  },
  {
   "cell_type": "markdown",
   "id": "a7da103d-f50e-45ab-8466-c0bd13af0c86",
   "metadata": {},
   "source": [
    "You can see type hints in action by calling the function\n",
    "\n",
    "Run the cell above to create the function.  \n",
    "In the code below, start a left paren `(` to see the type hints"
   ]
  },
  {
   "cell_type": "code",
   "execution_count": null,
   "id": "271ca32d-fd60-455e-bd25-023e4ac87e71",
   "metadata": {},
   "outputs": [],
   "source": [
    "area_of_triangle"
   ]
  },
  {
   "cell_type": "markdown",
   "id": "c7388627-6aa9-40c0-bb8b-4b8b405e68b4",
   "metadata": {},
   "source": [
    "## Docstrings\n",
    "\n",
    "A **Docstring** is a  multi-line comment which explains what the function does to the function caller.\n",
    "\n",
    "The same function with type hints and docstring:\n"
   ]
  },
  {
   "cell_type": "code",
   "execution_count": 9,
   "id": "973be2e2-2e10-4ef8-806c-ddf30c205193",
   "metadata": {
    "tags": []
   },
   "outputs": [],
   "source": [
    "def area_of_triangle(base: float, height: float) -> float: \n",
    "    '''\n",
    "    Calculates the area of a triangle given base and height\n",
    "    returns the area defined as 1/2 the base times height\n",
    "    '''\n",
    "    area = 0.5 * base *height\n",
    "    return area\n"
   ]
  },
  {
   "cell_type": "markdown",
   "id": "08c6c10e-cf05-4de7-b5ff-1f67fca8dc1d",
   "metadata": {},
   "source": [
    "You can see doc strings in action by calling the function\n",
    "\n",
    "Run the cell above to create the function.  \n",
    "In the code below, start a left paren `(` to see the doc string"
   ]
  },
  {
   "cell_type": "code",
   "execution_count": null,
   "id": "8d4e0798-8eb4-4c2c-a27d-2eafc6c940cb",
   "metadata": {},
   "outputs": [],
   "source": [
    "area_of_triangle"
   ]
  },
  {
   "cell_type": "markdown",
   "id": "ca2be54f-b10b-45ca-be8e-c1c552abf1c0",
   "metadata": {},
   "source": [
    "# Strings\n",
    "\n",
    "- string slices\n",
    "- string methods\n",
    "- text processing"
   ]
  },
  {
   "cell_type": "markdown",
   "id": "5a8ecfd5-7423-4f20-a319-6e65f872b1ce",
   "metadata": {
    "tags": []
   },
   "source": [
    "## String are sequence types\n",
    "\n",
    "You can use slice notation like with lists.\n",
    "\n",
    "These are zero based.\n",
    "\n",
    "`var[start:stop]`\n",
    "\n",
    "Takes `stop - start` characters from `var` starting at position `start`"
   ]
  },
  {
   "cell_type": "code",
   "execution_count": 11,
   "id": "20b9c512-b5ce-4366-8621-533cc3aa93dc",
   "metadata": {
    "tags": []
   },
   "outputs": [
    {
     "name": "stdout",
     "output_type": "stream",
     "text": [
      "fu\n",
      "dge\n",
      "fudg\n",
      "fudge\n",
      "fudg\n"
     ]
    }
   ],
   "source": [
    "x = \"fudge\"\n",
    "print(x[0:2]) # fu\n",
    "print(x[2:5]) # dge\n",
    "print(x[:4]) # fudg\n",
    "print(x[:]) # fudge\n",
    "print(x[:-1]) # fudg\n"
   ]
  },
  {
   "cell_type": "markdown",
   "id": "1517e983-b019-46f5-bccf-c8075c8bb99b",
   "metadata": {
    "tags": []
   },
   "source": [
    "## String Methods\n",
    "\n",
    "https://docs.python.org/3/library/stdtypes.html#text-sequence-type-str\n",
    "\n",
    "Method functions attach to the string   `x.strip()`\n",
    "\n",
    "Common methods\n",
    "```\n",
    "strip()\n",
    "upper()\n",
    "lower()\n",
    "find()\n",
    "count()\n",
    "split()\n",
    "join()\n",
    "replace()\n",
    "```\n"
   ]
  },
  {
   "cell_type": "code",
   "execution_count": 23,
   "id": "ba9cf811-e43a-4038-89b0-83284005cbd2",
   "metadata": {
    "tags": []
   },
   "outputs": [
    {
     "name": "stdout",
     "output_type": "stream",
     "text": [
      "2\n",
      "3\n",
      "THIS\n",
      "7\n",
      "0\n",
      "x\n",
      "that is a test\n"
     ]
    }
   ],
   "source": [
    "# Samples\n",
    "s = \"this is a test\"\n",
    "print(s.count(\"is\")) # 2\n",
    "print(s.count(\"t\"))  # 3\n",
    "print(s.upper()[:4]) # TEST\n",
    "print(s.find(\" a \")) # 7\n",
    "print(s.find(\"this\")) # 9\n",
    "print(\"   x   \".strip()) # x\n",
    "print(s.replace(\"this\",\"that\")) # that is a test"
   ]
  },
  {
   "cell_type": "markdown",
   "id": "865dd424-13bc-4945-94ed-4d5a191cc99f",
   "metadata": {},
   "source": [
    "## Challenge 1-3-2\n",
    "\n",
    "Write a function called `cleanup` which takes a string as input and returns a \"cleaned string\" meaning:\n",
    " - remove any ? , . or !\n",
    " - strip off the whitespace from the ends\n",
    " - return text in lower case\n",
    " \n",
    " write code to call your function and test it\n"
   ]
  },
  {
   "cell_type": "code",
   "execution_count": 18,
   "id": "db6b7735",
   "metadata": {},
   "outputs": [
    {
     "ename": "TypeError",
     "evalue": "replace() argument 1 must be str, not int",
     "output_type": "error",
     "traceback": [
      "\u001b[1;31m---------------------------------------------------------------------------\u001b[0m",
      "\u001b[1;31mTypeError\u001b[0m                                 Traceback (most recent call last)",
      "Cell \u001b[1;32mIn[18], line 22\u001b[0m\n\u001b[0;32m     18\u001b[0m         cleaned_string \u001b[38;5;241m=\u001b[39m replace, strip_ends, lower_case \n\u001b[0;32m     20\u001b[0m         \u001b[38;5;28;01mreturn\u001b[39;00m  cleaned_string\n\u001b[1;32m---> 22\u001b[0m \u001b[43mcleanup\u001b[49m\u001b[43m(\u001b[49m\u001b[43m)\u001b[49m\n",
      "Cell \u001b[1;32mIn[18], line 12\u001b[0m, in \u001b[0;36mcleanup\u001b[1;34m()\u001b[0m\n\u001b[0;32m      9\u001b[0m \u001b[38;5;28;01mfor\u001b[39;00m i \u001b[38;5;129;01min\u001b[39;00m \u001b[38;5;28mrange\u001b[39m(\u001b[38;5;28mlen\u001b[39m(fix)):\n\u001b[0;32m     11\u001b[0m     \u001b[38;5;28;01mif\u001b[39;00m i \u001b[38;5;241m==\u001b[39m \u001b[38;5;124m\"\u001b[39m\u001b[38;5;124m?\u001b[39m\u001b[38;5;124m\"\u001b[39m \u001b[38;5;129;01mor\u001b[39;00m \u001b[38;5;124m\"\u001b[39m\u001b[38;5;124m,\u001b[39m\u001b[38;5;124m\"\u001b[39m \u001b[38;5;129;01mor\u001b[39;00m \u001b[38;5;124m\"\u001b[39m\u001b[38;5;124m.\u001b[39m\u001b[38;5;124m\"\u001b[39m \u001b[38;5;129;01mor\u001b[39;00m \u001b[38;5;124m\"\u001b[39m\u001b[38;5;124m!\u001b[39m\u001b[38;5;124m\"\u001b[39m:\n\u001b[1;32m---> 12\u001b[0m         replace \u001b[38;5;241m=\u001b[39m \u001b[43mfix\u001b[49m\u001b[38;5;241;43m.\u001b[39;49m\u001b[43mreplace\u001b[49m\u001b[43m(\u001b[49m\u001b[43mi\u001b[49m\u001b[43m,\u001b[49m\u001b[43m \u001b[49m\u001b[38;5;124;43m\"\u001b[39;49m\u001b[38;5;124;43m\"\u001b[39;49m\u001b[43m)\u001b[49m\n\u001b[0;32m     14\u001b[0m     strip_ends \u001b[38;5;241m=\u001b[39m replace\u001b[38;5;241m.\u001b[39mstrip(i)\n\u001b[0;32m     16\u001b[0m     lower_case \u001b[38;5;241m=\u001b[39m replace\u001b[38;5;241m.\u001b[39mlower(i)\n",
      "\u001b[1;31mTypeError\u001b[0m: replace() argument 1 must be str, not int"
     ]
    }
   ],
   "source": [
    "def cleanup(text:str) -> str:\n",
    "    ''' \n",
    "    - removes any question, comma, or period from the text\n",
    "    - it strips and white spaces from the ends\n",
    "    -returns text in lower case\n",
    "    '''\n",
    "\n",
    "    fix = input(\"Enter a string: \")\n",
    "    for i in range(len(fix)):\n",
    "\n",
    "        if i == \"?\" or \",\" or \".\" or \"!\":\n",
    "            replace = fix.replace(i, \"\")\n",
    "\n",
    "        strip_ends = replace.strip(i)\n",
    " \n",
    "        lower_case = replace.lower(i)\n",
    "        \n",
    "        cleaned_string = replace, strip_ends, lower_case \n",
    "\n",
    "        return  cleaned_string\n",
    "    \n",
    "cleanup()"
   ]
  },
  {
   "cell_type": "markdown",
   "id": "f9c0ae9b-1d65-43f8-9879-bacb2dc94c76",
   "metadata": {},
   "source": [
    "## String Tokenization and Parsing\n",
    "\n",
    "- **Tokenization**  is the process of breaking up a string into words, phrases, or symbols. \n",
    "    - Tokenize a sentence into words.\n",
    "    - `\"mike is here\"` becomes the iterable  `['mike','is','here']`\n",
    "- **Parsing** is the process of extracting meaning from a string. \n",
    "    - Parse text to a numerical value or date.\n",
    "    - `int('45')` becomes `45`"
   ]
  },
  {
   "cell_type": "code",
   "execution_count": 25,
   "id": "4c26d00b-7d0c-4d2b-a6b8-12678bfbeaae",
   "metadata": {
    "tags": []
   },
   "outputs": [
    {
     "name": "stdout",
     "output_type": "stream",
     "text": [
      "170\n"
     ]
    }
   ],
   "source": [
    "# tokeniize with split()\n",
    "# parse with int(), or float()\n",
    "\n",
    "text = \"30 40 90 10\"\n",
    "tokens = text.split()\n",
    "numbers = [int(t) for t in tokens]\n",
    "total = sum(numbers)\n",
    "print(total)"
   ]
  },
  {
   "cell_type": "code",
   "execution_count": 26,
   "id": "16bd2c6c-4b1b-444c-ac06-714deda84959",
   "metadata": {
    "tags": []
   },
   "outputs": [
    {
     "name": "stdout",
     "output_type": "stream",
     "text": [
      "['NAME', 'AGE', 'PHONE', 'GPA']\n"
     ]
    }
   ],
   "source": [
    "# What you split on is called the delimiter:\n",
    "text = \"name, age, phone, gpa\"\n",
    "items = [ x.upper().strip() for x in text.split(',') ]\n",
    "print(items)"
   ]
  },
  {
   "cell_type": "markdown",
   "id": "1fc9971f-1005-49dc-b66f-b47a01161e37",
   "metadata": {},
   "source": [
    "# Files\n",
    "\n",
    "- `with` statement / context manager\n",
    "- reading / writing text files (all at once, line at a time)\n",
    "- JSON serialization / de-serialization"
   ]
  },
  {
   "cell_type": "markdown",
   "id": "29949c21-6ae1-42b5-afe0-36f667d1d6f3",
   "metadata": {},
   "source": [
    "# Files == Persistence\n",
    "\n",
    "- Files add a **Persistence Layer** to our computing environment where we can store our data  **after the program completes**. \n",
    "- **Think: Saving a game's progress or saving your work!**\n",
    "- When our program **Stores** data, we open the file for **writing**.\n",
    "- When our program **Reads** data, we open the file for **reading**.\n",
    "- To read or write a file we must first **open** it, which gives us a special variable called a **file handle**. \n",
    "- We then use the **file handle** to read or write from the file.\n",
    "- The **read()** function reads from the **write()** function writes to the file through the file handle. "
   ]
  },
  {
   "cell_type": "code",
   "execution_count": 24,
   "id": "3d1941b1-eafd-411a-8939-ad1b4f8a55f4",
   "metadata": {
    "tags": []
   },
   "outputs": [
    {
     "name": "stdout",
     "output_type": "stream",
     "text": [
      "=== All at once ===\n",
      "This\n",
      "Is\n",
      "A\n",
      "Sample\n",
      "=== A Line at a time ===\n",
      "1 This\n",
      "2 Is\n",
      "3 A\n",
      "4 Sample\n"
     ]
    }
   ],
   "source": [
    "# Reading From a file...\n",
    "filename = \"data/sample.txt\"\n",
    "print(\"=== All at once ===\")\n",
    "with open(filename, 'r') as handle:\n",
    "    contents = handle.read()\n",
    "    print(contents)\n",
    "\n",
    "print(\"=== A Line at a time ===\")\n",
    "i = 1\n",
    "with open(filename, 'r') as handle:\n",
    "    for line in handle.readlines():\n",
    "        print(i, line.strip())\n",
    "        i += 1"
   ]
  },
  {
   "cell_type": "code",
   "execution_count": 23,
   "id": "c6712a93-dc96-420b-8f51-8054c041a456",
   "metadata": {
    "tags": []
   },
   "outputs": [
    {
     "name": "stdout",
     "output_type": "stream",
     "text": [
      "=== Create file and write to it ===\n",
      "=== Append (add to end) of existing file ===\n"
     ]
    }
   ],
   "source": [
    "# Writing to a file\n",
    "filename = \"data/demo.txt\"\n",
    "print(\"=== Create file and write to it ===\")\n",
    "with open(filename, \"w\") as f:\n",
    "    f.write(\"message!\\n\")\n",
    "\n",
    "print(\"=== Append (add to end) of existing file ===\")\n",
    "with open(filename, \"a\") as f:\n",
    "    f.write(\"message # 2!\\n\")\n",
    "    "
   ]
  },
  {
   "cell_type": "code",
   "execution_count": 9,
   "id": "8c9c407c-ee22-4ce4-a4ae-f16159a67bbe",
   "metadata": {
    "tags": []
   },
   "outputs": [
    {
     "name": "stdout",
     "output_type": "stream",
     "text": [
      "message!\n",
      "message # 2!\n"
     ]
    }
   ],
   "source": [
    "!cat demo.txt"
   ]
  },
  {
   "cell_type": "code",
   "execution_count": 22,
   "id": "c7f99dee-e487-4ec7-9a05-5b9439538a0c",
   "metadata": {
    "tags": []
   },
   "outputs": [
    {
     "name": "stdout",
     "output_type": "stream",
     "text": [
      "data/data.txt was not found!\n"
     ]
    }
   ],
   "source": [
    "# Try / Except to handle FileNotFound\n",
    "try:\n",
    "    file = 'data/data.txt'\n",
    "    with open(file,'r') as f:\n",
    "        print( f.read() )\n",
    "except FileNotFoundError:\n",
    "    print(f\"{file} was not found!\")"
   ]
  },
  {
   "cell_type": "markdown",
   "id": "2b5f63a9-7201-41ed-a6b5-4cdbc04adc9a",
   "metadata": {},
   "source": [
    "# JSON and Python Dictionaries\n",
    "\n",
    "- [JSON](https://www.w3schools.com/whatis/whatis_json.asp) (**JavaScript Object Notation**) is a standard, human-readable  data format. It's a popular format for data on the web.\n",
    "- JSON Can be easily converted to lists of dictionaries using Python's **json** module.\n",
    "- Transferring a JSON string to Python is known as **de-serializing**. \n",
    "- Transferring Python to a JSON string is known as **serializing**. \n",
    "- **<font color='red'>This is easy to do in Python but challenging to do in most other languages.</font>**\n"
   ]
  },
  {
   "cell_type": "code",
   "execution_count": 20,
   "id": "b1d3f697-124a-473f-8a37-f763c3e548f0",
   "metadata": {
    "tags": []
   },
   "outputs": [],
   "source": [
    "# Serialize a python object as json\n",
    "import json\n",
    "grades = { 'CHE101' : [100,80,70], 'IST195' : [100,80,100] }\n",
    "with open(\"data/grades.json\", \"w\") as f:\n",
    "    json.dump(grades, f, indent=4) # write grades to file as JSON"
   ]
  },
  {
   "cell_type": "code",
   "execution_count": 21,
   "id": "c8d1d905-d974-4eb0-b98e-361dc00ccf57",
   "metadata": {
    "tags": []
   },
   "outputs": [
    {
     "name": "stdout",
     "output_type": "stream",
     "text": [
      "{\n",
      "    \"CHE101\": [\n",
      "        100,\n",
      "        80,\n",
      "        70\n",
      "    ],\n",
      "    \"IST195\": [\n",
      "        100,\n",
      "        80,\n",
      "        100\n",
      "    ]\n",
      "}"
     ]
    }
   ],
   "source": [
    "!cat data/grades.json"
   ]
  },
  {
   "cell_type": "code",
   "execution_count": 19,
   "id": "bd0d5000-b5f8-4e2b-af4b-dc18b6d3c5cc",
   "metadata": {
    "tags": []
   },
   "outputs": [
    {
     "name": "stdout",
     "output_type": "stream",
     "text": [
      "AAPL\n",
      "AMZN\n",
      "FB\n",
      "GOOG\n",
      "IBM\n",
      "MSFT\n",
      "NET\n",
      "NFLX\n",
      "TSLA\n",
      "TWTR\n"
     ]
    }
   ],
   "source": [
    "# de-serialize some json\n",
    "file = \"data/stocks.json\"\n",
    "with open(file, \"r\") as f:\n",
    "    stocks = json.load(f)\n",
    "    \n",
    "# stocks is a python object\n",
    "# Deserialized from text!\n",
    "for stock in stocks:\n",
    "    print(stock['symbol'])"
   ]
  },
  {
   "cell_type": "markdown",
   "id": "4dc2b904-44a4-4ce7-a44b-fb91a7f683b0",
   "metadata": {},
   "source": [
    "## Challenge 1-3-3\n",
    "\n",
    "write a program to read in a string of students and gpas in one input statement like this:\n",
    "\n",
    "`mike 3.4, noel 3.2, obby 3.5, peta 3.4`\n",
    "\n",
    "and write out JSON like this:\n",
    "\n",
    "```\n",
    "[\n",
    "    { \"name\" : \"mike\", \"gpa\" : 3.4 },\n",
    "    { \"name\" : \"noel\", \"gpa\" : 3.2 },\n",
    "    { \"name\" : \"obby\", \"gpa\" : 3.5 },\n",
    "    { \"name\" : \"peta\", \"gpa\" : 3.4 }\n",
    "]\n",
    "```\n",
    "\n",
    "Suggested approach:\n",
    "\n",
    "    1. input text\n",
    "    2. for each student split on \",\" from the text\n",
    "    3.    split the student into name and gpa \n",
    "    4.    parse the gpa so its a float\n",
    "    5.    add the name and gpa to the list\n",
    "    6. write the list to students.json as JSON\n"
   ]
  },
  {
   "cell_type": "code",
   "execution_count": null,
   "id": "8147ce92-9167-4ec8-afbe-4048e4b334b1",
   "metadata": {},
   "outputs": [],
   "source": []
  }
 ],
 "metadata": {
  "kernelspec": {
   "display_name": "Python 3 (ipykernel)",
   "language": "python",
   "name": "python3"
  },
  "language_info": {
   "codemirror_mode": {
    "name": "ipython",
    "version": 3
   },
   "file_extension": ".py",
   "mimetype": "text/x-python",
   "name": "python",
   "nbconvert_exporter": "python",
   "pygments_lexer": "ipython3",
   "version": "3.11.3"
  }
 },
 "nbformat": 4,
 "nbformat_minor": 5
}
