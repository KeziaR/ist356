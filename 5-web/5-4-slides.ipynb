{
 "cells": [
  {
   "cell_type": "markdown",
   "metadata": {},
   "source": [
    "# 5-4 Web Scraping Challenege\n",
    "\n",
    "\n",
    "Let's do a web scraping challenge. We will scrape the data from the following website: https://www.imdb.com/chart/top/\n"
   ]
  }
 ],
 "metadata": {
  "language_info": {
   "name": "python"
  }
 },
 "nbformat": 4,
 "nbformat_minor": 2
}
